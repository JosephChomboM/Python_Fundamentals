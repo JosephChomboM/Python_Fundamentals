{
 "cells": [
  {
   "cell_type": "markdown",
   "metadata": {},
   "source": [
    "# **Python - Operators and Data Types**"
   ]
  },
  {
   "cell_type": "code",
   "execution_count": 1,
   "metadata": {},
   "outputs": [],
   "source": [
    "import pandas as pd"
   ]
  },
  {
   "cell_type": "markdown",
   "metadata": {},
   "source": [
    "## **Ranges**\n",
    "Inmutable sequence of numbers"
   ]
  },
  {
   "cell_type": "code",
   "execution_count": 2,
   "metadata": {},
   "outputs": [
    {
     "data": {
      "text/plain": [
       "[0, 1, 2, 3, 4, 5]"
      ]
     },
     "execution_count": 2,
     "metadata": {},
     "output_type": "execute_result"
    }
   ],
   "source": [
    "ran = range(0, 6)\n",
    "ran\n",
    "to_list = list(ran)\n",
    "to_list.append(77)\n",
    "to_list.pop()\n",
    "to_list"
   ]
  },
  {
   "cell_type": "markdown",
   "metadata": {},
   "source": [
    "## **Lists** \n",
    "- Ordered and mutable\n",
    "- Changable\n",
    "- Duplicates Ok"
   ]
  },
  {
   "cell_type": "code",
   "execution_count": 3,
   "metadata": {},
   "outputs": [
    {
     "data": {
      "text/plain": [
       "list"
      ]
     },
     "execution_count": 3,
     "metadata": {},
     "output_type": "execute_result"
    }
   ],
   "source": [
    "\n",
    "my_list = [1, 2, 3, 'four']\n",
    "type(my_list)"
   ]
  },
  {
   "cell_type": "markdown",
   "metadata": {},
   "source": [
    "## **Tuples**\n",
    "- Ordered and unchangable\n",
    "- Cannot be modified after creation\n",
    "- Duplicates Ok"
   ]
  },
  {
   "cell_type": "code",
   "execution_count": 4,
   "metadata": {},
   "outputs": [
    {
     "data": {
      "text/plain": [
       "tuple"
      ]
     },
     "execution_count": 4,
     "metadata": {},
     "output_type": "execute_result"
    }
   ],
   "source": [
    "my_tu = (1, 2, 3, 3.5, 'five')\n",
    "type(my_tu)"
   ]
  },
  {
   "cell_type": "markdown",
   "metadata": {},
   "source": [
    "## **Sets _(conjuntos)_**\n",
    "- Unordered, unique items\n",
    "- Unchangable but Add / Remove Ok\n",
    "- NO duplicates"
   ]
  },
  {
   "cell_type": "code",
   "execution_count": 5,
   "metadata": {},
   "outputs": [
    {
     "data": {
      "text/plain": [
       "set"
      ]
     },
     "execution_count": 5,
     "metadata": {},
     "output_type": "execute_result"
    }
   ],
   "source": [
    "set_m = {1, 2, 3, 4}\n",
    "type(set_m)"
   ]
  },
  {
   "cell_type": "markdown",
   "metadata": {},
   "source": [
    "## **Dictionaries**\n",
    "- Ordered and changable **collections** of key-value pairs\n",
    "- No duplicates\n",
    "\n",
    "Methods:\n",
    "- ``get()`` - ``items()`` - ``keys()`` - ``values()``\n",
    "- ``clear()`` - ``copy()`` - ``fromkeys()`` \n",
    "- ``pop()`` - ``popitem()`` - ``update()`` - ``setdefault()``"
   ]
  },
  {
   "cell_type": "code",
   "execution_count": 6,
   "metadata": {},
   "outputs": [
    {
     "name": "stdout",
     "output_type": "stream",
     "text": [
      "['__class__', '__class_getitem__', '__contains__', '__delattr__', '__delitem__', '__dir__', '__doc__', '__eq__', '__format__', '__ge__', '__getattribute__', '__getitem__', '__getstate__', '__gt__', '__hash__', '__init__', '__init_subclass__', '__ior__', '__iter__', '__le__', '__len__', '__lt__', '__ne__', '__new__', '__or__', '__reduce__', '__reduce_ex__', '__repr__', '__reversed__', '__ror__', '__setattr__', '__setitem__', '__sizeof__', '__str__', '__subclasshook__', 'clear', 'copy', 'fromkeys', 'get', 'items', 'keys', 'pop', 'popitem', 'setdefault', 'update', 'values']\n"
     ]
    }
   ],
   "source": [
    "country_cit = {\n",
    "    'Peru': {'Lima', 'Ica', 'Pasco', 'Loreto'},\n",
    "    'Chile': 'Santiago',\n",
    "    'Norway': 'Oslo',\n",
    "    'UK': 'London',\n",
    "    'Canada': 'Vancuber'\n",
    "}\n",
    "print(dir(country_cit))"
   ]
  },
  {
   "cell_type": "code",
   "execution_count": 7,
   "metadata": {},
   "outputs": [
    {
     "data": {
      "text/plain": [
       "{'Peru': {'Ica', 'Lima', 'Loreto', 'Pasco'},\n",
       " 'Chile': 'Santiago',\n",
       " 'Norway': 'Oslo',\n",
       " 'UK': 'London',\n",
       " 'Canada': 'Vancuber'}"
      ]
     },
     "execution_count": 7,
     "metadata": {},
     "output_type": "execute_result"
    }
   ],
   "source": [
    "country_cit.update( # insert new key-value pair OR update an exist one\n",
    "    {'Germany': 'Munich'}\n",
    ")\n",
    "country_cit.popitem() #remove the last k-v\n",
    "country_cit"
   ]
  },
  {
   "cell_type": "code",
   "execution_count": 8,
   "metadata": {},
   "outputs": [
    {
     "name": "stdout",
     "output_type": "stream",
     "text": [
      "Peru\n",
      "Chile\n",
      "Norway\n",
      "UK\n",
      "Canada\n",
      "--------------\n",
      "{'Pasco', 'Lima', 'Ica', 'Loreto'}\n",
      "Santiago\n",
      "Oslo\n",
      "London\n",
      "Vancuber\n"
     ]
    }
   ],
   "source": [
    "for key in country_cit.keys(): #key\n",
    "    print(key)\n",
    "print('--------------')\n",
    "for val in country_cit.values(): #value\n",
    "    print(val)"
   ]
  },
  {
   "cell_type": "markdown",
   "metadata": {},
   "source": [
    "#### ``items()`` returns a **_2D_** **List** of **Tuples**"
   ]
  },
  {
   "cell_type": "code",
   "execution_count": 9,
   "metadata": {},
   "outputs": [
    {
     "name": "stdout",
     "output_type": "stream",
     "text": [
      "dict_items([('Peru', {'Pasco', 'Lima', 'Ica', 'Loreto'}), ('Chile', 'Santiago'), ('Norway', 'Oslo'), ('UK', 'London'), ('Canada', 'Vancuber')])\n"
     ]
    }
   ],
   "source": [
    "mitem = country_cit.items()\n",
    "print(mitem)"
   ]
  },
  {
   "cell_type": "code",
   "execution_count": 10,
   "metadata": {},
   "outputs": [
    {
     "name": "stdout",
     "output_type": "stream",
     "text": [
      "Peru -> {'Pasco', 'Lima', 'Ica', 'Loreto'}\n",
      "Chile -> Santiago\n",
      "Norway -> Oslo\n",
      "UK -> London\n",
      "Canada -> Vancuber\n"
     ]
    }
   ],
   "source": [
    "for key, val in country_cit.items():\n",
    "    print(f'{key} -> {val}')"
   ]
  },
  {
   "cell_type": "markdown",
   "metadata": {},
   "source": [
    "### Objects"
   ]
  },
  {
   "cell_type": "code",
   "execution_count": 11,
   "metadata": {},
   "outputs": [
    {
     "name": "stdout",
     "output_type": "stream",
     "text": [
      "<__main__.claspyl object at 0x000001BD738CD990>\n"
     ]
    }
   ],
   "source": [
    "class claspyl:\n",
    "    def __init__(self, attribute): # is used to init the obj\n",
    "        self.attribute = attribute\n",
    "\n",
    "custom_obj = claspyl(attribute='hellou, Im custom')\n",
    "print(custom_obj)"
   ]
  },
  {
   "cell_type": "markdown",
   "metadata": {},
   "source": [
    "# **Indexing & Flow Control**\n"
   ]
  },
  {
   "cell_type": "markdown",
   "metadata": {},
   "source": [
    "## **Indexing Strings**\n",
    "using ``[]`` indexing operator ``[start : end : step]``"
   ]
  },
  {
   "cell_type": "code",
   "execution_count": 12,
   "metadata": {},
   "outputs": [
    {
     "data": {
      "text/plain": [
       "'6901-7552-3984-2031'"
      ]
     },
     "execution_count": 12,
     "metadata": {},
     "output_type": "execute_result"
    }
   ],
   "source": [
    "cred_num = \"1302-4893-2557-1096\"\n",
    "# cred_num[:4] '1302'\n",
    "# cred_num[5:9] '4893'\n",
    "# cred_num[5:] 4893-2557-1096'\n",
    "# cred_num[::5] 1421\n",
    "cred_num[::-1]\n"
   ]
  },
  {
   "cell_type": "code",
   "execution_count": 13,
   "metadata": {},
   "outputs": [
    {
     "name": "stdout",
     "output_type": "stream",
     "text": [
      "xxxx-xxxx-xxxx-1096\n"
     ]
    }
   ],
   "source": [
    "fin = cred_num[-4:]\n",
    "print(f'xxxx-xxxx-xxxx-{fin}')"
   ]
  },
  {
   "cell_type": "markdown",
   "metadata": {},
   "source": [
    "### _Indexing Lists_"
   ]
  },
  {
   "cell_type": "code",
   "execution_count": 14,
   "metadata": {},
   "outputs": [
    {
     "data": {
      "text/plain": [
       "['apple', 'coconut', 'strawberry']"
      ]
     },
     "execution_count": 14,
     "metadata": {},
     "output_type": "execute_result"
    }
   ],
   "source": [
    "fruits = ['pineapple', 'pear', 'banana', 'watermelon', 'apple', 'coconut', 'strawberry']\n",
    "fruits[-3:]"
   ]
  },
  {
   "cell_type": "code",
   "execution_count": 15,
   "metadata": {},
   "outputs": [
    {
     "name": "stdout",
     "output_type": "stream",
     "text": [
      "pineapple\n",
      "pear\n",
      "banana\n",
      "watermelon\n",
      "apple\n",
      "coconut\n",
      "strawberry\n"
     ]
    }
   ],
   "source": [
    "for x in fruits: # x can be whatever word, in general is used the singular of our variable\n",
    "    print(x)"
   ]
  },
  {
   "cell_type": "markdown",
   "metadata": {},
   "source": [
    "## **Dir**\n",
    "``dir() `` -> properties and methods of a specific object"
   ]
  },
  {
   "cell_type": "code",
   "execution_count": 16,
   "metadata": {},
   "outputs": [
    {
     "name": "stdout",
     "output_type": "stream",
     "text": [
      "['__add__', '__class__', '__class_getitem__', '__contains__', '__delattr__', '__delitem__', '__dir__', '__doc__', '__eq__', '__format__', '__ge__', '__getattribute__', '__getitem__', '__getstate__', '__gt__', '__hash__', '__iadd__', '__imul__', '__init__', '__init_subclass__', '__iter__', '__le__', '__len__', '__lt__', '__mul__', '__ne__', '__new__', '__reduce__', '__reduce_ex__', '__repr__', '__reversed__', '__rmul__', '__setattr__', '__setitem__', '__sizeof__', '__str__', '__subclasshook__', 'append', 'clear', 'copy', 'count', 'extend', 'index', 'insert', 'pop', 'remove', 'reverse', 'sort']\n"
     ]
    }
   ],
   "source": [
    "print(dir(fruits))"
   ]
  },
  {
   "cell_type": "code",
   "execution_count": 17,
   "metadata": {},
   "outputs": [
    {
     "data": {
      "text/plain": [
       "True"
      ]
     },
     "execution_count": 17,
     "metadata": {},
     "output_type": "execute_result"
    }
   ],
   "source": [
    "'coconut' in fruits\n"
   ]
  },
  {
   "cell_type": "code",
   "execution_count": 18,
   "metadata": {},
   "outputs": [
    {
     "data": {
      "text/plain": [
       "False"
      ]
     },
     "execution_count": 18,
     "metadata": {},
     "output_type": "execute_result"
    }
   ],
   "source": [
    "'potato' in fruits"
   ]
  }
 ],
 "metadata": {
  "kernelspec": {
   "display_name": "Python 3",
   "language": "python",
   "name": "python3"
  },
  "language_info": {
   "codemirror_mode": {
    "name": "ipython",
    "version": 3
   },
   "file_extension": ".py",
   "mimetype": "text/x-python",
   "name": "python",
   "nbconvert_exporter": "python",
   "pygments_lexer": "ipython3",
   "version": "3.11.1"
  }
 },
 "nbformat": 4,
 "nbformat_minor": 2
}
