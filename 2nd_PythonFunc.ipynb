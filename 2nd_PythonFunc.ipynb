{
 "cells": [
  {
   "cell_type": "markdown",
   "metadata": {},
   "source": [
    "# **Python Functions**"
   ]
  },
  {
   "cell_type": "markdown",
   "metadata": {},
   "source": [
    "## **Lambda Function _λ_**\n",
    "- It's like a shortcut\n",
    "- Needed for a short period of time _(one line of code)_\n",
    "\n",
    "``lambda parameters: expression``"
   ]
  },
  {
   "cell_type": "code",
   "execution_count": 1,
   "metadata": {},
   "outputs": [
    {
     "data": {
      "text/plain": [
       "14"
      ]
     },
     "execution_count": 1,
     "metadata": {},
     "output_type": "execute_result"
    }
   ],
   "source": [
    "def double(x):\n",
    "    return x * 2\n",
    "double(7)"
   ]
  },
  {
   "cell_type": "markdown",
   "metadata": {},
   "source": [
    "Lambda way"
   ]
  },
  {
   "cell_type": "code",
   "execution_count": 2,
   "metadata": {},
   "outputs": [
    {
     "data": {
      "text/plain": [
       "14"
      ]
     },
     "execution_count": 2,
     "metadata": {},
     "output_type": "execute_result"
    }
   ],
   "source": [
    "dob = lambda x: x * 2\n",
    "dob(7)"
   ]
  },
  {
   "cell_type": "code",
   "execution_count": 3,
   "metadata": {},
   "outputs": [
    {
     "data": {
      "text/plain": [
       "True"
      ]
     },
     "execution_count": 3,
     "metadata": {},
     "output_type": "execute_result"
    }
   ],
   "source": [
    "age = lambda ag:True if ag >= 18 else False\n",
    "age(19)"
   ]
  },
  {
   "cell_type": "markdown",
   "metadata": {},
   "source": [
    "## **Map Funtion**\n",
    "- Applies a _function_ to each _item_ in an _iterable_\n",
    "- Can be list, tuples, etc.\n",
    "\n",
    "``map(funtion, iterable)``"
   ]
  },
  {
   "cell_type": "markdown",
   "metadata": {},
   "source": [
    "Example 1: Convert dolar prices to euros"
   ]
  },
  {
   "cell_type": "code",
   "execution_count": 4,
   "metadata": {},
   "outputs": [
    {
     "name": "stdout",
     "output_type": "stream",
     "text": [
      "('shirt', 18.8697)\n",
      "('pants', 21.3807)\n",
      "('socks', 10.137)\n",
      "('jacket', 32.085)\n"
     ]
    }
   ],
   "source": [
    "store = [\n",
    " ('shirt', 20.29),\n",
    " ('pants', 22.99),\n",
    " ('socks', 10.90),\n",
    " ('jacket', 34.50)\n",
    "]\n",
    "# Lambda function\n",
    "to_euros = lambda data: (data[0], data[1] * 0.93)\n",
    "# Map function\n",
    "store_euros = list(map(to_euros, store))\n",
    "for i in store_euros:\n",
    "    print(i)"
   ]
  },
  {
   "cell_type": "markdown",
   "metadata": {},
   "source": [
    "Example 2: Convert list of integers to a set of floats"
   ]
  },
  {
   "cell_type": "code",
   "execution_count": 7,
   "metadata": {},
   "outputs": [
    {
     "data": {
      "text/plain": [
       "['10', '20', '30', '40', '50']"
      ]
     },
     "execution_count": 7,
     "metadata": {},
     "output_type": "execute_result"
    }
   ],
   "source": [
    "codi = input().split()\n",
    "codi"
   ]
  },
  {
   "cell_type": "code",
   "execution_count": 8,
   "metadata": {},
   "outputs": [
    {
     "data": {
      "text/plain": [
       "{10.0, 20.0, 30.0, 40.0, 50.0}"
      ]
     },
     "execution_count": 8,
     "metadata": {},
     "output_type": "execute_result"
    }
   ],
   "source": [
    "a = set(map(float, codi))\n",
    "a"
   ]
  },
  {
   "cell_type": "markdown",
   "metadata": {},
   "source": [
    "## **Filter Function**\n",
    "- Collection of elements from a iterable for which a funtion returns ``True``.\n",
    "\n",
    "``filter(funtion, iterable)``"
   ]
  },
  {
   "cell_type": "code",
   "execution_count": 61,
   "metadata": {},
   "outputs": [
    {
     "data": {
      "text/plain": [
       "[('Jose', 19), ('Hannah', 23), ('Ted', 21), ('Robbin', 18)]"
      ]
     },
     "execution_count": 61,
     "metadata": {},
     "output_type": "execute_result"
    }
   ],
   "source": [
    "friend = [\n",
    "    ('Jose', 19),\n",
    "    ('Hannah', 23),\n",
    "    ('Elie', 14),\n",
    "    ('Barney', 17),\n",
    "    ('Ted', 21),\n",
    "    ('Robbin', 18)\n",
    "]\n",
    "adult = lambda data: data[1] >= 18\n",
    "drink = list(filter(adult, friend))\n",
    "drink"
   ]
  },
  {
   "cell_type": "markdown",
   "metadata": {},
   "source": [
    "## **Zip Function**\n",
    "- Agregate n elements, can be (list, tuple, dict, set, etc) and return a 'whatever' of **_tuples_**.\n",
    "\n",
    "``zip(iterables)``"
   ]
  },
  {
   "cell_type": "code",
   "execution_count": 62,
   "metadata": {},
   "outputs": [
    {
     "data": {
      "text/plain": [
       "{('drako', 'p@ssword'),\n",
       " ('godotony', 'o1o1'),\n",
       " ('osogu', 'guest'),\n",
       " ('yogui', 'coco1')}"
      ]
     },
     "execution_count": 62,
     "metadata": {},
     "output_type": "execute_result"
    }
   ],
   "source": [
    "nick = ['drako', 'yogui', 'osogu', 'godotony']\n",
    "passw = ['p@ssword', 'coco1', 'guest', 'o1o1']\n",
    "web = ('ghub', 'reddit', 'yt')\n",
    "\n",
    "userss = set(zip(nick, passw))\n",
    "userss"
   ]
  },
  {
   "cell_type": "markdown",
   "metadata": {},
   "source": [
    "- If an iterable doesn't have the same size, then length of the output depends on the shortest iterable.\n",
    "- But this can be resolvable with ``zip_longest``."
   ]
  },
  {
   "cell_type": "code",
   "execution_count": null,
   "metadata": {},
   "outputs": [
    {
     "data": {
      "text/plain": [
       "(('drako', 'p@ssword', 'ghub'),\n",
       " ('yogui', 'coco1', 'reddit'),\n",
       " ('osogu', 'guest', 'yt'))"
      ]
     },
     "execution_count": 21,
     "metadata": {},
     "output_type": "execute_result"
    }
   ],
   "source": [
    "userss = tuple(zip(nick, passw, web))\n",
    "userss # length 3, bc web only have 3"
   ]
  },
  {
   "cell_type": "code",
   "execution_count": null,
   "metadata": {},
   "outputs": [
    {
     "data": {
      "text/plain": [
       "(('drako', 'p@ssword', 'ghub'),\n",
       " ('yogui', 'coco1', 'reddit'),\n",
       " ('osogu', 'guest', 'yt'),\n",
       " ('godotony', 'o1o1', 'Idk'))"
      ]
     },
     "execution_count": 24,
     "metadata": {},
     "output_type": "execute_result"
    }
   ],
   "source": [
    "from itertools import zip_longest\n",
    "userss = tuple(zip_longest(nick, passw, web, fillvalue = 'Idk'))\n",
    "userss"
   ]
  },
  {
   "cell_type": "markdown",
   "metadata": {},
   "source": [
    "## **Statistical Funtions**"
   ]
  },
  {
   "cell_type": "markdown",
   "metadata": {},
   "source": [
    "### **Min / Max**"
   ]
  },
  {
   "cell_type": "code",
   "execution_count": 9,
   "metadata": {},
   "outputs": [
    {
     "data": {
      "text/html": [
       "<div>\n",
       "<style scoped>\n",
       "    .dataframe tbody tr th:only-of-type {\n",
       "        vertical-align: middle;\n",
       "    }\n",
       "\n",
       "    .dataframe tbody tr th {\n",
       "        vertical-align: top;\n",
       "    }\n",
       "\n",
       "    .dataframe thead th {\n",
       "        text-align: right;\n",
       "    }\n",
       "</style>\n",
       "<table border=\"1\" class=\"dataframe\">\n",
       "  <thead>\n",
       "    <tr style=\"text-align: right;\">\n",
       "      <th></th>\n",
       "      <th>Column1</th>\n",
       "      <th>Column2</th>\n",
       "      <th>Column3</th>\n",
       "      <th>Column4</th>\n",
       "      <th>Column5</th>\n",
       "    </tr>\n",
       "  </thead>\n",
       "  <tbody>\n",
       "    <tr>\n",
       "      <th>0</th>\n",
       "      <td>10</td>\n",
       "      <td>15</td>\n",
       "      <td>7</td>\n",
       "      <td>22</td>\n",
       "      <td>13</td>\n",
       "    </tr>\n",
       "    <tr>\n",
       "      <th>1</th>\n",
       "      <td>27</td>\n",
       "      <td>18</td>\n",
       "      <td>30</td>\n",
       "      <td>25</td>\n",
       "      <td>11</td>\n",
       "    </tr>\n",
       "    <tr>\n",
       "      <th>2</th>\n",
       "      <td>14</td>\n",
       "      <td>23</td>\n",
       "      <td>12</td>\n",
       "      <td>20</td>\n",
       "      <td>8</td>\n",
       "    </tr>\n",
       "    <tr>\n",
       "      <th>3</th>\n",
       "      <td>31</td>\n",
       "      <td>19</td>\n",
       "      <td>26</td>\n",
       "      <td>17</td>\n",
       "      <td>16</td>\n",
       "    </tr>\n",
       "  </tbody>\n",
       "</table>\n",
       "</div>"
      ],
      "text/plain": [
       "   Column1  Column2  Column3  Column4  Column5\n",
       "0       10       15        7       22       13\n",
       "1       27       18       30       25       11\n",
       "2       14       23       12       20        8\n",
       "3       31       19       26       17       16"
      ]
     },
     "execution_count": 9,
     "metadata": {},
     "output_type": "execute_result"
    }
   ],
   "source": [
    "import pandas as pd\n",
    "import numpy as np\n",
    "\n",
    "array_custom = np.array([\n",
    "    [10, 15, 7, 22, 13],\n",
    "    [27, 18, 30, 25, 11],\n",
    "    [14, 23, 12, 20, 8],\n",
    "    [31, 19, 26, 17, 16]    \n",
    "])\n",
    "col_names = [\"Column1\", \"Column2\", \"Column3\", \"Column4\", \"Column5\"]\n",
    "df = pd.DataFrame(array_custom, columns = col_names)\n",
    "df"
   ]
  },
  {
   "cell_type": "code",
   "execution_count": 10,
   "metadata": {},
   "outputs": [
    {
     "name": "stdout",
     "output_type": "stream",
     "text": [
      "np array amin() -> 7\n",
      "    pd DataFrame min():\n",
      "Column1    10\n",
      "Column2    15\n",
      "Column3     7\n",
      "Column4    17\n",
      "Column5     8\n",
      "dtype: int32\n",
      "    min().min() df -> 7\n"
     ]
    }
   ],
   "source": [
    "minimum_element = np.amin(array_custom)\n",
    "df.min()\n",
    "print(\n",
    "    f'np array amin() -> {minimum_element}\\n\\\n",
    "    pd DataFrame min():\\n{df.min()}\\n\\\n",
    "    min().min() df -> {df.min().min()}'\n",
    ")"
   ]
  },
  {
   "cell_type": "markdown",
   "metadata": {},
   "source": [
    "### **Axis 0 and 1**"
   ]
  },
  {
   "cell_type": "code",
   "execution_count": 11,
   "metadata": {},
   "outputs": [
    {
     "name": "stdout",
     "output_type": "stream",
     "text": [
      "axis = 0 (column): [10 15  7 17  8]    \n",
      "axis = 1 (row): [ 7 11  8 16]\n"
     ]
    }
   ],
   "source": [
    "print(\n",
    "    f'axis = 0 (column): {np.amin(array_custom, axis=0)}\\\n",
    "    \\naxis = 1 (row): {np.amin(array_custom, axis=1)}'\n",
    ")"
   ]
  },
  {
   "cell_type": "markdown",
   "metadata": {},
   "source": [
    "### **Median**\n",
    "Sorts the array or df Ascendingly and then finds the median.\n",
    "- if it's even -> returns 1 num.\n",
    "- if it's odd -> returns mean of 2 median nums."
   ]
  },
  {
   "cell_type": "code",
   "execution_count": 12,
   "metadata": {},
   "outputs": [
    {
     "name": "stdout",
     "output_type": "stream",
     "text": [
      "17.5\n",
      "[13. 25. 14. 19.]\n",
      "[20.5 18.5 19.  21.  12. ]\n"
     ]
    }
   ],
   "source": [
    "print(np.median(array_custom))\n",
    "print(np.median(array_custom,axis=1))\n",
    "print(np.median(array_custom,axis=0))\n"
   ]
  },
  {
   "cell_type": "markdown",
   "metadata": {},
   "source": [
    "### **Variance**\n",
    "First of all, the $ ^2$ in $s$ or $\\sigma$ does not mean anything, it's just part of the notation.\n",
    "\n",
    "When it's sample data _``ddof = 1``_:  <span style=\"margin-right: 240px;\"></span> All data population _``ddof = 0``_:\n",
    "\n",
    "#### $s^2 = \\frac{\\sum(i - .mean)^2}{N elem - 1} \\hspace{13em} \\sigma^2 = \\frac{\\sum(i - .mean)^2}{N elem}$ "
   ]
  },
  {
   "cell_type": "markdown",
   "metadata": {},
   "source": [
    "Pandas uses _Bessel Method (N - 1)_, is used when **working with a sample of the population** rather the complete population.\n",
    "\n",
    "By default Pandas works with ``ddof = 1``, ddof means _degrees of freedom_ with ``1`` means that it's working with a sample."
   ]
  },
  {
   "cell_type": "code",
   "execution_count": 40,
   "metadata": {},
   "outputs": [
    {
     "data": {
      "text/plain": [
       "Column1    101.666667\n",
       "Column2     10.916667\n",
       "Column3    120.916667\n",
       "Column4     11.333333\n",
       "Column5     11.333333\n",
       "dtype: float64"
      ]
     },
     "execution_count": 40,
     "metadata": {},
     "output_type": "execute_result"
    }
   ],
   "source": [
    "df.var()"
   ]
  },
  {
   "cell_type": "markdown",
   "metadata": {},
   "source": [
    "Numpy, by default works with ``ddof = 0`` which is the _Population Method (N)_, it means you have **all possible data** and not just a sample of it.\n",
    "\n",
    "If you know all elements of the population, the population method provides the \"true\" variance of the population."
   ]
  },
  {
   "cell_type": "code",
   "execution_count": 44,
   "metadata": {},
   "outputs": [
    {
     "name": "stdout",
     "output_type": "stream",
     "text": [
      "entire population: [76.25    8.1875 90.6875  8.5     8.5   ]\n",
      "sample population: [101.66666667  10.91666667 120.91666667  11.33333333  11.33333333]\n"
     ]
    }
   ],
   "source": [
    "entire_ppl = np.var(array_custom, axis=0, ddof=0) # ddof = 0 can be ommited \n",
    "sample = np.var(array_custom,axis=0, ddof=1)\n",
    "print(f'entire population: {entire_ppl}\\nsample population: {sample}')"
   ]
  },
  {
   "cell_type": "markdown",
   "metadata": {},
   "source": [
    "### **Standar Diviation**\n",
    "Basically ``std`` is:\n",
    "\n",
    "$ \\hspace{15em} Std = \\sqrt{variance}$\n",
    "\n",
    "Where:\n",
    "- Variance can be $s^2$ or $\\sigma^2$.\n",
    "- Here is applies the same, ``ddof`` is sample: ``1`` or all data:``0``."
   ]
  },
  {
   "cell_type": "code",
   "execution_count": 60,
   "metadata": {},
   "outputs": [
    {
     "name": "stdout",
     "output_type": "stream",
     "text": [
      "6.989992846920518\n",
      "0    5.683309\n",
      "1    7.661593\n",
      "2    6.066300\n",
      "3    6.457554\n",
      "dtype: float64\n"
     ]
    }
   ],
   "source": [
    "print(df.values.std())\n",
    "print(df.std(axis=1))"
   ]
  },
  {
   "cell_type": "code",
   "execution_count": 59,
   "metadata": {},
   "outputs": [
    {
     "name": "stdout",
     "output_type": "stream",
     "text": [
      "6.989992846920518\n",
      "[5.6833089  7.66159252 6.06630036 6.45755372]\n"
     ]
    }
   ],
   "source": [
    "print(np.std(array_custom,ddof=0))\n",
    "print(np.std(array_custom, axis=1, ddof=1))"
   ]
  }
 ],
 "metadata": {
  "kernelspec": {
   "display_name": "Python 3",
   "language": "python",
   "name": "python3"
  },
  "language_info": {
   "codemirror_mode": {
    "name": "ipython",
    "version": 3
   },
   "file_extension": ".py",
   "mimetype": "text/x-python",
   "name": "python",
   "nbconvert_exporter": "python",
   "pygments_lexer": "ipython3",
   "version": "3.11.1"
  }
 },
 "nbformat": 4,
 "nbformat_minor": 2
}
